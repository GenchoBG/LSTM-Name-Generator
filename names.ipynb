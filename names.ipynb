{
 "cells": [
  {
   "cell_type": "code",
   "execution_count": 1,
   "metadata": {},
   "outputs": [],
   "source": [
    "from __future__ import absolute_import, division, print_function, unicode_literals\n",
    "\n",
    "import tensorflow as tf\n",
    "\n",
    "tf.enable_eager_execution()\n",
    "\n",
    "import numpy as np\n",
    "import os\n",
    "import time\n",
    "import random\n",
    "\n",
    "from pandas import read_csv"
   ]
  },
  {
   "cell_type": "code",
   "execution_count": 2,
   "metadata": {},
   "outputs": [],
   "source": [
    "path_to_file = \"./names.csv\""
   ]
  },
  {
   "cell_type": "code",
   "execution_count": 3,
   "metadata": {},
   "outputs": [
    {
     "name": "stdout",
     "output_type": "stream",
     "text": [
      "Length of text: 46987 characters\n"
     ]
    }
   ],
   "source": [
    "# Read, then join to form one whole string\n",
    "text = read_csv(path_to_file)\n",
    "text = text[\"name\"]\n",
    "\n",
    "end_of_name_character = \"\\n\"\n",
    "\n",
    "text = end_of_name_character.join(text)\n",
    "# length of text is the number of characters in it\n",
    "print ('Length of text: {} characters'.format(len(text)))"
   ]
  },
  {
   "cell_type": "code",
   "execution_count": 4,
   "metadata": {},
   "outputs": [
    {
     "name": "stdout",
     "output_type": "stream",
     "text": [
      "John\n",
      "William\n",
      "James\n",
      "Charles\n",
      "George\n",
      "Frank\n",
      "Joseph\n",
      "Thomas\n",
      "Henry\n",
      "Robert\n",
      "Edward\n",
      "Harry\n",
      "Walter\n",
      "Arthur\n",
      "Fred\n",
      "Albert\n",
      "Samuel\n",
      "David\n",
      "Louis\n",
      "Joe\n",
      "Charlie\n",
      "Clarence\n",
      "Richard\n",
      "Andrew\n",
      "Daniel\n",
      "Ernest\n",
      "Will\n",
      "Jesse\n",
      "Oscar\n",
      "Lewis\n",
      "Peter\n",
      "Benjamin\n",
      "Frederick\n",
      "Willie\n",
      "Alfred\n",
      "Sam\n",
      "Roy\n",
      "Herbe\n"
     ]
    }
   ],
   "source": [
    "# Take a look at the first 250 characters in text\n",
    "print(text[:250])"
   ]
  },
  {
   "cell_type": "code",
   "execution_count": 5,
   "metadata": {},
   "outputs": [
    {
     "name": "stdout",
     "output_type": "stream",
     "text": [
      "53 unique characters\n"
     ]
    }
   ],
   "source": [
    "# The unique characters in the file\n",
    "vocab = sorted(set(text))\n",
    "print ('{} unique characters'.format(len(vocab)))"
   ]
  },
  {
   "cell_type": "code",
   "execution_count": 6,
   "metadata": {},
   "outputs": [],
   "source": [
    "# Creating a mapping from unique characters to indices\n",
    "char2idx = {u:i for i, u in enumerate(vocab)}\n",
    "idx2char = np.array(vocab)\n",
    "\n",
    "text_as_int = np.array([char2idx[c] for c in text])"
   ]
  },
  {
   "cell_type": "code",
   "execution_count": 7,
   "metadata": {},
   "outputs": [
    {
     "name": "stdout",
     "output_type": "stream",
     "text": [
      "{\n",
      "  '\\n':   0,\n",
      "  'A' :   1,\n",
      "  'B' :   2,\n",
      "  'C' :   3,\n",
      "  'D' :   4,\n",
      "  'E' :   5,\n",
      "  'F' :   6,\n",
      "  'G' :   7,\n",
      "  'H' :   8,\n",
      "  'I' :   9,\n",
      "  'J' :  10,\n",
      "  'K' :  11,\n",
      "  'L' :  12,\n",
      "  'M' :  13,\n",
      "  'N' :  14,\n",
      "  'O' :  15,\n",
      "  'P' :  16,\n",
      "  'Q' :  17,\n",
      "  'R' :  18,\n",
      "  'S' :  19,\n",
      "  ...\n",
      "}\n"
     ]
    }
   ],
   "source": [
    "# Visualize the indices\n",
    "print('{')\n",
    "for char,_ in zip(char2idx, range(20)):\n",
    "    print('  {:4s}: {:3d},'.format(repr(char), char2idx[char]))\n",
    "print('  ...\\n}')"
   ]
  },
  {
   "cell_type": "code",
   "execution_count": 8,
   "metadata": {},
   "outputs": [
    {
     "name": "stdout",
     "output_type": "stream",
     "text": [
      "'John\\nWilliam\\n' ---- characters mapped to int ---- > [10 41 34 40  0 23 35 38 38 35 27 39  0]\n"
     ]
    }
   ],
   "source": [
    "# Show how the first 13 characters from the text are mapped to integers\n",
    "print ('{} ---- characters mapped to int ---- > {}'.format(repr(text[:13]), text_as_int[:13]))"
   ]
  },
  {
   "cell_type": "code",
   "execution_count": 9,
   "metadata": {},
   "outputs": [
    {
     "name": "stdout",
     "output_type": "stream",
     "text": [
      "J\n",
      "o\n",
      "h\n",
      "n\n",
      "\n",
      "\n"
     ]
    }
   ],
   "source": [
    "# The maximum length sentence we want for a single input in characters\n",
    "seq_length = 60\n",
    "examples_per_epoch = len(text)//seq_length\n",
    "\n",
    "# Create training examples / targets\n",
    "char_dataset = tf.data.Dataset.from_tensor_slices(text_as_int)\n",
    "\n",
    "for i in char_dataset.take(5):\n",
    "  print(idx2char[i.numpy()])"
   ]
  },
  {
   "cell_type": "code",
   "execution_count": 10,
   "metadata": {},
   "outputs": [
    {
     "name": "stdout",
     "output_type": "stream",
     "text": [
      "'John\\nWilliam\\nJames\\nCharles\\nGeorge\\nFrank\\nJoseph\\nThomas\\nHenry\\nR'\n",
      "'obert\\nEdward\\nHarry\\nWalter\\nArthur\\nFred\\nAlbert\\nSamuel\\nDavid\\nLou'\n",
      "'is\\nJoe\\nCharlie\\nClarence\\nRichard\\nAndrew\\nDaniel\\nErnest\\nWill\\nJes'\n",
      "'se\\nOscar\\nLewis\\nPeter\\nBenjamin\\nFrederick\\nWillie\\nAlfred\\nSam\\nRoy'\n",
      "'\\nHerbert\\nJacob\\nTom\\nElmer\\nCarl\\nLee\\nHoward\\nMartin\\nMichael\\nBert\\n'\n"
     ]
    }
   ],
   "source": [
    "sequences = char_dataset.batch(seq_length + 1, drop_remainder = True)\n",
    "\n",
    "for item in sequences.take(5):\n",
    "  print(repr(''.join(idx2char[item.numpy()])))\n",
    "# TODO: Fix names being cut in half in the batches"
   ]
  },
  {
   "cell_type": "code",
   "execution_count": 11,
   "metadata": {},
   "outputs": [],
   "source": [
    "def split_input_target(chunk):\n",
    "    input_text = chunk[:-1]\n",
    "    target_text = chunk[1:]\n",
    "    return input_text, target_text\n",
    "\n",
    "dataset = sequences.map(split_input_target)"
   ]
  },
  {
   "cell_type": "code",
   "execution_count": 12,
   "metadata": {},
   "outputs": [
    {
     "name": "stdout",
     "output_type": "stream",
     "text": [
      "Input data:  'John\\nWilliam\\nJames\\nCharles\\nGeorge\\nFrank\\nJoseph\\nThomas\\nHenry\\n'\n",
      "Target data: 'ohn\\nWilliam\\nJames\\nCharles\\nGeorge\\nFrank\\nJoseph\\nThomas\\nHenry\\nR'\n"
     ]
    }
   ],
   "source": [
    "# Visualize the behaviour we are expecting from our RNN\n",
    "for input_example, target_example in  dataset.take(1):\n",
    "  print ('Input data: ', repr(''.join(idx2char[input_example.numpy()])))\n",
    "  print ('Target data:', repr(''.join(idx2char[target_example.numpy()])))"
   ]
  },
  {
   "cell_type": "code",
   "execution_count": 13,
   "metadata": {},
   "outputs": [
    {
     "name": "stdout",
     "output_type": "stream",
     "text": [
      "Step    0\n",
      "  input: 10 ('J')\n",
      "  expected output: 41 ('o')\n",
      "Step    1\n",
      "  input: 41 ('o')\n",
      "  expected output: 34 ('h')\n",
      "Step    2\n",
      "  input: 34 ('h')\n",
      "  expected output: 40 ('n')\n",
      "Step    3\n",
      "  input: 40 ('n')\n",
      "  expected output: 0 ('\\n')\n",
      "Step    4\n",
      "  input: 0 ('\\n')\n",
      "  expected output: 23 ('W')\n"
     ]
    }
   ],
   "source": [
    "# Visualize the behaviour we are expecting from our RNN on each step\n",
    "for i, (input_idx, target_idx) in enumerate(zip(input_example[:5], target_example[:5])):\n",
    "    print(\"Step {:4d}\".format(i))\n",
    "    print(\"  input: {} ({:s})\".format(input_idx, repr(idx2char[input_idx])))\n",
    "    print(\"  expected output: {} ({:s})\".format(target_idx, repr(idx2char[target_idx])))"
   ]
  },
  {
   "cell_type": "code",
   "execution_count": 14,
   "metadata": {},
   "outputs": [
    {
     "data": {
      "text/plain": [
       "<DatasetV1Adapter shapes: ((64, 60), (64, 60)), types: (tf.int32, tf.int32)>"
      ]
     },
     "execution_count": 14,
     "metadata": {},
     "output_type": "execute_result"
    }
   ],
   "source": [
    "# Batch size\n",
    "BATCH_SIZE = 64\n",
    "steps_per_epoch = examples_per_epoch // BATCH_SIZE\n",
    "\n",
    "# Buffer size to shuffle the dataset\n",
    "# (TF data is designed to work with possibly infinite sequences,\n",
    "# so it doesn't attempt to shuffle the entire sequence in memory. Instead,\n",
    "# it maintains a buffer in which it shuffles elements).\n",
    "BUFFER_SIZE = 10000\n",
    "\n",
    "dataset = dataset.shuffle(BUFFER_SIZE).batch(BATCH_SIZE, drop_remainder=True)\n",
    "\n",
    "dataset"
   ]
  },
  {
   "cell_type": "code",
   "execution_count": 15,
   "metadata": {},
   "outputs": [],
   "source": [
    "# Length of the vocabulary in chars\n",
    "vocab_size = len(vocab)\n",
    "\n",
    "# The embedding dimension\n",
    "embedding_dim = 256\n",
    "\n",
    "# Number of RNN units\n",
    "rnn_units = 1024"
   ]
  },
  {
   "cell_type": "code",
   "execution_count": 16,
   "metadata": {},
   "outputs": [],
   "source": [
    "if tf.test.is_gpu_available():\n",
    "  rnn = tf.keras.layers.CuDNNGRU\n",
    "else:\n",
    "  import functools\n",
    "  rnn = functools.partial(\n",
    "    tf.keras.layers.GRU, recurrent_activation='sigmoid')"
   ]
  },
  {
   "cell_type": "code",
   "execution_count": 17,
   "metadata": {},
   "outputs": [],
   "source": [
    "# Build the model\n",
    "def build_model(vocab_size, embedding_dim, rnn_units, batch_size):\n",
    "  model = tf.keras.Sequential([\n",
    "    tf.keras.layers.Embedding(vocab_size, embedding_dim,\n",
    "                              batch_input_shape=[batch_size, None]),\n",
    "    rnn(rnn_units,\n",
    "        return_sequences=True,\n",
    "        recurrent_initializer='glorot_uniform',\n",
    "        stateful=True),\n",
    "    tf.keras.layers.Dense(vocab_size)\n",
    "  ])\n",
    "  return model"
   ]
  },
  {
   "cell_type": "code",
   "execution_count": 18,
   "metadata": {},
   "outputs": [],
   "source": [
    "model = build_model(\n",
    "  vocab_size = len(vocab),\n",
    "  embedding_dim = embedding_dim,\n",
    "  rnn_units = rnn_units,\n",
    "  batch_size = BATCH_SIZE)"
   ]
  },
  {
   "cell_type": "code",
   "execution_count": 19,
   "metadata": {},
   "outputs": [
    {
     "name": "stdout",
     "output_type": "stream",
     "text": [
      "(64, 60, 53) # (batch_size, sequence_length, vocab_size)\n"
     ]
    }
   ],
   "source": [
    "for input_example_batch, target_example_batch in dataset.take(1):\n",
    "  example_batch_predictions = model(input_example_batch)\n",
    "  print(example_batch_predictions.shape, \"# (batch_size, sequence_length, vocab_size)\")"
   ]
  },
  {
   "cell_type": "code",
   "execution_count": 20,
   "metadata": {},
   "outputs": [
    {
     "name": "stdout",
     "output_type": "stream",
     "text": [
      "Model: \"sequential\"\n",
      "_________________________________________________________________\n",
      "Layer (type)                 Output Shape              Param #   \n",
      "=================================================================\n",
      "embedding (Embedding)        (64, None, 256)           13568     \n",
      "_________________________________________________________________\n",
      "cu_dnngru (CuDNNGRU)         (64, None, 1024)          3938304   \n",
      "_________________________________________________________________\n",
      "dense (Dense)                (64, None, 53)            54325     \n",
      "=================================================================\n",
      "Total params: 4,006,197\n",
      "Trainable params: 4,006,197\n",
      "Non-trainable params: 0\n",
      "_________________________________________________________________\n"
     ]
    }
   ],
   "source": [
    "model.summary()"
   ]
  },
  {
   "cell_type": "code",
   "execution_count": 21,
   "metadata": {},
   "outputs": [],
   "source": [
    "sampled_indices = tf.random.categorical(example_batch_predictions[0], num_samples=1)\n",
    "sampled_indices = tf.squeeze(sampled_indices, axis = -1).numpy()"
   ]
  },
  {
   "cell_type": "code",
   "execution_count": 22,
   "metadata": {},
   "outputs": [
    {
     "data": {
      "text/plain": [
       "array([15,  3, 40, 37, 25, 28, 10,  3, 10, 51, 47, 22,  3, 29, 40, 17, 30,\n",
       "       49, 40,  3, 39, 41, 30,  6, 40, 51, 44, 34, 29, 46,  1,  8, 12, 22,\n",
       "       52, 34, 26, 39, 30, 49, 13, 38, 13, 17, 23, 52, 45, 21, 17, 38, 10,\n",
       "       41, 35, 22, 38, 42, 26, 10, 43, 15], dtype=int64)"
      ]
     },
     "execution_count": 22,
     "metadata": {},
     "output_type": "execute_result"
    }
   ],
   "source": [
    "sampled_indices"
   ]
  },
  {
   "cell_type": "code",
   "execution_count": 23,
   "metadata": {},
   "outputs": [
    {
     "name": "stdout",
     "output_type": "stream",
     "text": [
      "Input: \n",
      " 'Devyn\\nSavon\\nDeondre\\nDarrian\\nDallin\\nJordy\\nMikal\\nAdonis\\nKelton'\n",
      "\n",
      "Next Char Predictions: \n",
      " 'OCnkYbJCJyuVCcnQdwnCmodFnyrhctAHLVzhZmdwMlMQWzsUQlJoiVlpZJqO'\n"
     ]
    }
   ],
   "source": [
    "print(\"Input: \\n\", repr(\"\".join(idx2char[input_example_batch[0]])))\n",
    "print()\n",
    "print(\"Next Char Predictions: \\n\", repr(\"\".join(idx2char[sampled_indices ])))"
   ]
  },
  {
   "cell_type": "code",
   "execution_count": 24,
   "metadata": {},
   "outputs": [
    {
     "name": "stdout",
     "output_type": "stream",
     "text": [
      "Prediction shape:  (64, 60, 53)  # (batch_size, sequence_length, vocab_size)\n",
      "scalar_loss:       3.97137\n"
     ]
    }
   ],
   "source": [
    "def loss(labels, logits):\n",
    "  return tf.keras.losses.sparse_categorical_crossentropy(labels, logits, from_logits = True)\n",
    "\n",
    "example_batch_loss  = loss(target_example_batch, example_batch_predictions)\n",
    "print(\"Prediction shape: \", example_batch_predictions.shape, \" # (batch_size, sequence_length, vocab_size)\")\n",
    "print(\"scalar_loss:      \", example_batch_loss.numpy().mean())"
   ]
  },
  {
   "cell_type": "code",
   "execution_count": 25,
   "metadata": {},
   "outputs": [],
   "source": [
    "model.compile(\n",
    "    optimizer = tf.train.AdamOptimizer(),\n",
    "    loss = loss)"
   ]
  },
  {
   "cell_type": "code",
   "execution_count": 26,
   "metadata": {},
   "outputs": [],
   "source": [
    "# Directory where the checkpoints will be saved\n",
    "checkpoint_dir = './training_checkpoints'\n",
    "# Name of the checkpoint files\n",
    "checkpoint_prefix = os.path.join(checkpoint_dir, \"ckpt_{epoch}\")\n",
    "\n",
    "checkpoint_callback=tf.keras.callbacks.ModelCheckpoint(\n",
    "    filepath=checkpoint_prefix,\n",
    "    save_weights_only=True)"
   ]
  },
  {
   "cell_type": "code",
   "execution_count": 27,
   "metadata": {},
   "outputs": [],
   "source": [
    "EPOCHS = 50"
   ]
  },
  {
   "cell_type": "code",
   "execution_count": 28,
   "metadata": {},
   "outputs": [
    {
     "name": "stdout",
     "output_type": "stream",
     "text": [
      "Epoch 1/50\n",
      "12/12 [==============================] - 2s 200ms/step - loss: 4.2606\n",
      "Epoch 2/50\n",
      "12/12 [==============================] - 4s 331ms/step - loss: 3.4932\n",
      "Epoch 3/50\n",
      "12/12 [==============================] - 1s 56ms/step - loss: 2.9675\n",
      "Epoch 4/50\n",
      "12/12 [==============================] - 1s 107ms/step - loss: 2.6528\n",
      "Epoch 5/50\n",
      "12/12 [==============================] - 1s 62ms/step - loss: 2.4505\n",
      "Epoch 6/50\n",
      "12/12 [==============================] - 1s 62ms/step - loss: 2.3543\n",
      "Epoch 7/50\n",
      "12/12 [==============================] - 2s 148ms/step - loss: 2.3043\n",
      "Epoch 8/50\n",
      "12/12 [==============================] - 1s 66ms/step - loss: 2.2658\n",
      "Epoch 9/50\n",
      "12/12 [==============================] - 1s 109ms/step - loss: 2.2362\n",
      "Epoch 10/50\n",
      "12/12 [==============================] - 1s 66ms/step - loss: 2.2120\n",
      "Epoch 11/50\n",
      "12/12 [==============================] - 1s 92ms/step - loss: 2.1931\n",
      "Epoch 12/50\n",
      "12/12 [==============================] - 2s 164ms/step - loss: 2.1745\n",
      "Epoch 13/50\n",
      "12/12 [==============================] - 1s 95ms/step - loss: 2.1584\n",
      "Epoch 14/50\n",
      "12/12 [==============================] - 2s 184ms/step - loss: 2.1418\n",
      "Epoch 15/50\n",
      "12/12 [==============================] - 1s 77ms/step - loss: 2.1247\n",
      "Epoch 16/50\n",
      "12/12 [==============================] - 1s 94ms/step - loss: 2.1118\n",
      "Epoch 17/50\n",
      "12/12 [==============================] - 2s 172ms/step - loss: 2.0948 0s - loss: 2.0\n",
      "Epoch 18/50\n",
      "12/12 [==============================] - 1s 90ms/step - loss: 2.0797\n",
      "Epoch 19/50\n",
      "12/12 [==============================] - 1s 88ms/step - loss: 2.0597\n",
      "Epoch 20/50\n",
      "12/12 [==============================] - 1s 67ms/step - loss: 2.0467\n",
      "Epoch 21/50\n",
      "12/12 [==============================] - 1s 118ms/step - loss: 2.0320\n",
      "Epoch 22/50\n",
      "12/12 [==============================] - 1s 87ms/step - loss: 2.0180\n",
      "Epoch 23/50\n",
      "12/12 [==============================] - 2s 142ms/step - loss: 1.9994\n",
      "Epoch 24/50\n",
      "12/12 [==============================] - 1s 61ms/step - loss: 1.9821\n",
      "Epoch 25/50\n",
      "12/12 [==============================] - 2s 131ms/step - loss: 1.9633\n",
      "Epoch 26/50\n",
      "12/12 [==============================] - 2s 129ms/step - loss: 1.9458\n",
      "Epoch 27/50\n",
      "12/12 [==============================] - 1s 63ms/step - loss: 1.9248\n",
      "Epoch 28/50\n",
      "12/12 [==============================] - 1s 116ms/step - loss: 1.9058\n",
      "Epoch 29/50\n",
      "12/12 [==============================] - 1s 104ms/step - loss: 1.8828\n",
      "Epoch 30/50\n",
      "12/12 [==============================] - 2s 131ms/step - loss: 1.8629\n",
      "Epoch 31/50\n",
      "12/12 [==============================] - 1s 66ms/step - loss: 1.8394\n",
      "Epoch 32/50\n",
      "12/12 [==============================] - 1s 110ms/step - loss: 1.8089\n",
      "Epoch 33/50\n",
      "12/12 [==============================] - 1s 113ms/step - loss: 1.7842\n",
      "Epoch 34/50\n",
      "12/12 [==============================] - 2s 131ms/step - loss: 1.7551\n",
      "Epoch 35/50\n",
      "12/12 [==============================] - 1s 85ms/step - loss: 1.7249\n",
      "Epoch 36/50\n",
      "12/12 [==============================] - 2s 136ms/step - loss: 1.6917\n",
      "Epoch 37/50\n",
      "12/12 [==============================] - 1s 90ms/step - loss: 1.6552\n",
      "Epoch 38/50\n",
      "12/12 [==============================] - 1s 98ms/step - loss: 1.6146\n",
      "Epoch 39/50\n",
      "12/12 [==============================] - 1s 103ms/step - loss: 1.5695\n",
      "Epoch 40/50\n",
      "12/12 [==============================] - 2s 125ms/step - loss: 1.5219\n",
      "Epoch 41/50\n",
      "12/12 [==============================] - 1s 63ms/step - loss: 1.4665\n",
      "Epoch 42/50\n",
      "12/12 [==============================] - 1s 124ms/step - loss: 1.4202\n",
      "Epoch 43/50\n",
      "12/12 [==============================] - 1s 107ms/step - loss: 1.3596\n",
      "Epoch 44/50\n",
      "12/12 [==============================] - 1s 85ms/step - loss: 1.2983\n",
      "Epoch 45/50\n",
      "12/12 [==============================] - 1s 79ms/step - loss: 1.2373\n",
      "Epoch 46/50\n",
      "12/12 [==============================] - 1s 117ms/step - loss: 1.1731\n",
      "Epoch 47/50\n",
      "12/12 [==============================] - 1s 62ms/step - loss: 1.1058\n",
      "Epoch 48/50\n",
      "12/12 [==============================] - 2s 181ms/step - loss: 1.0377\n",
      "Epoch 49/50\n",
      "12/12 [==============================] - 1s 67ms/step - loss: 0.9643\n",
      "Epoch 50/50\n",
      "12/12 [==============================] - 1s 101ms/step - loss: 0.9025\n"
     ]
    }
   ],
   "source": [
    "history = model.fit(dataset.repeat(), epochs=EPOCHS, steps_per_epoch=steps_per_epoch, callbacks=[checkpoint_callback])"
   ]
  },
  {
   "cell_type": "code",
   "execution_count": 29,
   "metadata": {},
   "outputs": [
    {
     "data": {
      "text/plain": [
       "'./training_checkpoints\\\\ckpt_50'"
      ]
     },
     "execution_count": 29,
     "metadata": {},
     "output_type": "execute_result"
    }
   ],
   "source": [
    "tf.train.latest_checkpoint(checkpoint_dir)"
   ]
  },
  {
   "cell_type": "code",
   "execution_count": 30,
   "metadata": {},
   "outputs": [],
   "source": [
    "model = build_model(vocab_size, embedding_dim, rnn_units, batch_size=1)\n",
    "\n",
    "model.load_weights(tf.train.latest_checkpoint(checkpoint_dir))\n",
    "\n",
    "model.build(tf.TensorShape([1, None]))"
   ]
  },
  {
   "cell_type": "code",
   "execution_count": 31,
   "metadata": {},
   "outputs": [
    {
     "name": "stdout",
     "output_type": "stream",
     "text": [
      "Model: \"sequential_1\"\n",
      "_________________________________________________________________\n",
      "Layer (type)                 Output Shape              Param #   \n",
      "=================================================================\n",
      "embedding_1 (Embedding)      (1, None, 256)            13568     \n",
      "_________________________________________________________________\n",
      "cu_dnngru_1 (CuDNNGRU)       (1, None, 1024)           3938304   \n",
      "_________________________________________________________________\n",
      "dense_1 (Dense)              (1, None, 53)             54325     \n",
      "=================================================================\n",
      "Total params: 4,006,197\n",
      "Trainable params: 4,006,197\n",
      "Non-trainable params: 0\n",
      "_________________________________________________________________\n"
     ]
    }
   ],
   "source": [
    "model.summary()"
   ]
  },
  {
   "cell_type": "code",
   "execution_count": 32,
   "metadata": {},
   "outputs": [],
   "source": [
    "# Low temperatures results in more predictable text.\n",
    "# Higher temperatures results in more surprising text.\n",
    "# Experiment to find the best setting.\n",
    "def generate_name(model, start_string = None, temperature = 1):\n",
    "  # Evaluation step (generating text using the learned model)\n",
    "\n",
    "  if (start_string == None):\n",
    "    start_string = chr(random.randrange(65, 65 + 26))\n",
    "\n",
    "  \n",
    "  # Converting our start string to numbers (vectorizing)\n",
    "  input_eval = [char2idx[s] for s in start_string]\n",
    "  input_eval = tf.expand_dims(input_eval, 0)\n",
    "\n",
    "  # Empty string to store our results\n",
    "  text_generated = []\n",
    "  \n",
    "\n",
    "  # Here batch size == 1\n",
    "  model.reset_states()\n",
    "  while(True):\n",
    "      predictions = model(input_eval)\n",
    "      # remove the batch dimension\n",
    "      predictions = tf.squeeze(predictions, 0)\n",
    "\n",
    "      # using a multinomial distribution to predict the word returned by the model\n",
    "      predictions = predictions / temperature\n",
    "      predicted_id = tf.multinomial(predictions, num_samples=1)[-1,0].numpy()\n",
    "\n",
    "      # We pass the predicted word as the next input to the model\n",
    "      # along with the previous hidden state\n",
    "      input_eval = tf.expand_dims([predicted_id], 0)\n",
    "\n",
    "      character_generated = idx2char[predicted_id]\n",
    "      if (character_generated == end_of_name_character):\n",
    "        break\n",
    "        \n",
    "      text_generated.append(character_generated)\n",
    "\n",
    "  return (start_string + ''.join(text_generated))"
   ]
  },
  {
   "cell_type": "code",
   "execution_count": 37,
   "metadata": {},
   "outputs": [
    {
     "name": "stdout",
     "output_type": "stream",
     "text": [
      "Ger\n",
      "Gerta\n",
      "Gedrie\n",
      "Getti\n",
      "Gerrice\n"
     ]
    }
   ],
   "source": [
    "for i in range(0, 5):\n",
    "    print(generate_name(model, start_string = \"Ge\"))"
   ]
  },
  {
   "cell_type": "code",
   "execution_count": null,
   "metadata": {},
   "outputs": [],
   "source": []
  }
 ],
 "metadata": {
  "kernelspec": {
   "display_name": "Python 3",
   "language": "python",
   "name": "python3"
  },
  "language_info": {
   "codemirror_mode": {
    "name": "ipython",
    "version": 3
   },
   "file_extension": ".py",
   "mimetype": "text/x-python",
   "name": "python",
   "nbconvert_exporter": "python",
   "pygments_lexer": "ipython3",
   "version": "3.7.3"
  }
 },
 "nbformat": 4,
 "nbformat_minor": 2
}
